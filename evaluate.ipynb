{
 "cells": [
  {
   "cell_type": "code",
   "execution_count": 1,
   "metadata": {},
   "outputs": [
    {
     "name": "stderr",
     "output_type": "stream",
     "text": [
      "WARNING:root:Coremltools is not installed. If you plan to use a CoreML Saved Model, reinstall basic-pitch with `pip install 'basic-pitch[coreml]'`\n",
      "WARNING:root:onnxruntime is not installed. If you plan to use an ONNX Model, reinstall basic-pitch with `pip install 'basic-pitch[onnx]'`\n",
      "2024-06-15 17:38:50.302708: I tensorflow/core/platform/cpu_feature_guard.cc:182] This TensorFlow binary is optimized to use available CPU instructions in performance-critical operations.\n",
      "To enable the following instructions: AVX2 FMA, in other operations, rebuild TensorFlow with the appropriate compiler flags.\n",
      "2024-06-15 17:38:56.125395: W tensorflow/compiler/tf2tensorrt/utils/py_utils.cc:38] TF-TRT Warning: Could not find TensorRT\n"
     ]
    }
   ],
   "source": [
    "import os\n",
    "import time\n",
    "import pandas as pd\n",
    "import seaborn as sns\n",
    "import matplotlib.pyplot as plt\n",
    "\n",
    "from basic_pitch import ICASSP_2022_MODEL_PATH\n",
    "from basic_pitch.inference import Model, predict"
   ]
  },
  {
   "cell_type": "code",
   "execution_count": 2,
   "metadata": {},
   "outputs": [
    {
     "name": "stderr",
     "output_type": "stream",
     "text": [
      "2024-06-15 17:39:00.841947: I tensorflow/compiler/xla/stream_executor/cuda/cuda_gpu_executor.cc:995] successful NUMA node read from SysFS had negative value (-1), but there must be at least one NUMA node, so returning NUMA node zero. See more at https://github.com/torvalds/linux/blob/v6.0/Documentation/ABI/testing/sysfs-bus-pci#L344-L355\n",
      "2024-06-15 17:39:00.866432: I tensorflow/compiler/xla/stream_executor/cuda/cuda_gpu_executor.cc:995] successful NUMA node read from SysFS had negative value (-1), but there must be at least one NUMA node, so returning NUMA node zero. See more at https://github.com/torvalds/linux/blob/v6.0/Documentation/ABI/testing/sysfs-bus-pci#L344-L355\n",
      "2024-06-15 17:39:00.866620: I tensorflow/compiler/xla/stream_executor/cuda/cuda_gpu_executor.cc:995] successful NUMA node read from SysFS had negative value (-1), but there must be at least one NUMA node, so returning NUMA node zero. See more at https://github.com/torvalds/linux/blob/v6.0/Documentation/ABI/testing/sysfs-bus-pci#L344-L355\n",
      "2024-06-15 17:39:00.867496: I tensorflow/compiler/xla/stream_executor/cuda/cuda_gpu_executor.cc:995] successful NUMA node read from SysFS had negative value (-1), but there must be at least one NUMA node, so returning NUMA node zero. See more at https://github.com/torvalds/linux/blob/v6.0/Documentation/ABI/testing/sysfs-bus-pci#L344-L355\n",
      "2024-06-15 17:39:00.867627: I tensorflow/compiler/xla/stream_executor/cuda/cuda_gpu_executor.cc:995] successful NUMA node read from SysFS had negative value (-1), but there must be at least one NUMA node, so returning NUMA node zero. See more at https://github.com/torvalds/linux/blob/v6.0/Documentation/ABI/testing/sysfs-bus-pci#L344-L355\n",
      "2024-06-15 17:39:00.867749: I tensorflow/compiler/xla/stream_executor/cuda/cuda_gpu_executor.cc:995] successful NUMA node read from SysFS had negative value (-1), but there must be at least one NUMA node, so returning NUMA node zero. See more at https://github.com/torvalds/linux/blob/v6.0/Documentation/ABI/testing/sysfs-bus-pci#L344-L355\n",
      "2024-06-15 17:39:00.966353: I tensorflow/compiler/xla/stream_executor/cuda/cuda_gpu_executor.cc:995] successful NUMA node read from SysFS had negative value (-1), but there must be at least one NUMA node, so returning NUMA node zero. See more at https://github.com/torvalds/linux/blob/v6.0/Documentation/ABI/testing/sysfs-bus-pci#L344-L355\n",
      "2024-06-15 17:39:00.966606: I tensorflow/compiler/xla/stream_executor/cuda/cuda_gpu_executor.cc:995] successful NUMA node read from SysFS had negative value (-1), but there must be at least one NUMA node, so returning NUMA node zero. See more at https://github.com/torvalds/linux/blob/v6.0/Documentation/ABI/testing/sysfs-bus-pci#L344-L355\n",
      "2024-06-15 17:39:00.966727: I tensorflow/compiler/xla/stream_executor/cuda/cuda_gpu_executor.cc:995] successful NUMA node read from SysFS had negative value (-1), but there must be at least one NUMA node, so returning NUMA node zero. See more at https://github.com/torvalds/linux/blob/v6.0/Documentation/ABI/testing/sysfs-bus-pci#L344-L355\n",
      "2024-06-15 17:39:00.966850: I tensorflow/core/common_runtime/gpu/gpu_device.cc:1639] Created device /job:localhost/replica:0/task:0/device:GPU:0 with 720 MB memory:  -> device: 0, name: NVIDIA GeForce RTX 2060 with Max-Q Design, pci bus id: 0000:01:00.0, compute capability: 7.5\n"
     ]
    }
   ],
   "source": [
    "model = Model(ICASSP_2022_MODEL_PATH)"
   ]
  },
  {
   "cell_type": "code",
   "execution_count": 25,
   "metadata": {},
   "outputs": [],
   "source": [
    "INPUT_SOURCE = './test/NOT PIANIKA PREMAN PENSIUN - Tutorial Not Angka Mudah.mp3'"
   ]
  },
  {
   "cell_type": "code",
   "execution_count": 26,
   "metadata": {},
   "outputs": [
    {
     "name": "stdout",
     "output_type": "stream",
     "text": [
      "Predicting MIDI for ./test/NOT PIANIKA PREMAN PENSIUN - Tutorial Not Angka Mudah.mp3...\n"
     ]
    },
    {
     "name": "stderr",
     "output_type": "stream",
     "text": [
      "/home/imamaf/.pyenv/versions/3.9.2/lib/python3.9/site-packages/basic_pitch/inference.py:229: UserWarning: PySoundFile failed. Trying audioread instead.\n",
      "  audio_original, _ = librosa.load(str(audio_path), sr=AUDIO_SAMPLE_RATE, mono=True)\n",
      "/home/imamaf/.pyenv/versions/3.9.2/lib/python3.9/site-packages/librosa/core/audio.py:183: FutureWarning: librosa.core.audio.__audioread_load\n",
      "\tDeprecated as of librosa version 0.10.0.\n",
      "\tIt will be removed in librosa version 1.0.\n",
      "  y, sr_native = __audioread_load(path, offset, duration, dtype)\n",
      "[src/libmpg123/parse.c:skip_junk():1276] error: Giving up searching valid MPEG header after 65536 bytes of junk.\n"
     ]
    }
   ],
   "source": [
    "model_output, midi_data, note_events = predict(INPUT_SOURCE, model)"
   ]
  },
  {
   "cell_type": "code",
   "execution_count": 27,
   "metadata": {},
   "outputs": [],
   "source": [
    "note_events = [(round(item[0],4), round(item[1],4), item[2], round(item[3]*32767)) for item in note_events]"
   ]
  },
  {
   "cell_type": "code",
   "execution_count": 28,
   "metadata": {},
   "outputs": [],
   "source": [
    "note_events = sorted(note_events, key=lambda x: x[0])"
   ]
  },
  {
   "cell_type": "code",
   "execution_count": 29,
   "metadata": {},
   "outputs": [],
   "source": [
    "df = pd.DataFrame(note_events)"
   ]
  },
  {
   "cell_type": "code",
   "execution_count": 30,
   "metadata": {},
   "outputs": [
    {
     "data": {
      "text/plain": [
       "0     31\n",
       "87    31\n",
       "85    31\n",
       "84    31\n",
       "83    31\n",
       "      ..\n",
       "74    76\n",
       "25    76\n",
       "46    76\n",
       "65    90\n",
       "27    90\n",
       "Name: 2, Length: 108, dtype: int64"
      ]
     },
     "execution_count": 30,
     "metadata": {},
     "output_type": "execute_result"
    }
   ],
   "source": [
    "df[2].sort_values(ascending=True)"
   ]
  },
  {
   "cell_type": "code",
   "execution_count": 31,
   "metadata": {},
   "outputs": [
    {
     "data": {
      "text/html": [
       "<div>\n",
       "<style scoped>\n",
       "    .dataframe tbody tr th:only-of-type {\n",
       "        vertical-align: middle;\n",
       "    }\n",
       "\n",
       "    .dataframe tbody tr th {\n",
       "        vertical-align: top;\n",
       "    }\n",
       "\n",
       "    .dataframe thead th {\n",
       "        text-align: right;\n",
       "    }\n",
       "</style>\n",
       "<table border=\"1\" class=\"dataframe\">\n",
       "  <thead>\n",
       "    <tr style=\"text-align: right;\">\n",
       "      <th></th>\n",
       "      <th>0</th>\n",
       "      <th>1</th>\n",
       "      <th>2</th>\n",
       "      <th>3</th>\n",
       "    </tr>\n",
       "  </thead>\n",
       "  <tbody>\n",
       "    <tr>\n",
       "      <th>count</th>\n",
       "      <td>108.000000</td>\n",
       "      <td>108.000000</td>\n",
       "      <td>108.000000</td>\n",
       "      <td>108.000000</td>\n",
       "    </tr>\n",
       "    <tr>\n",
       "      <th>mean</th>\n",
       "      <td>25.133757</td>\n",
       "      <td>25.726710</td>\n",
       "      <td>63.518519</td>\n",
       "      <td>21696.074074</td>\n",
       "    </tr>\n",
       "    <tr>\n",
       "      <th>std</th>\n",
       "      <td>19.432392</td>\n",
       "      <td>19.555844</td>\n",
       "      <td>14.383585</td>\n",
       "      <td>6898.906184</td>\n",
       "    </tr>\n",
       "    <tr>\n",
       "      <th>min</th>\n",
       "      <td>0.058000</td>\n",
       "      <td>0.232200</td>\n",
       "      <td>31.000000</td>\n",
       "      <td>7827.000000</td>\n",
       "    </tr>\n",
       "    <tr>\n",
       "      <th>25%</th>\n",
       "      <td>5.479600</td>\n",
       "      <td>5.691475</td>\n",
       "      <td>62.500000</td>\n",
       "      <td>14306.000000</td>\n",
       "    </tr>\n",
       "    <tr>\n",
       "      <th>50%</th>\n",
       "      <td>23.123800</td>\n",
       "      <td>23.925500</td>\n",
       "      <td>67.000000</td>\n",
       "      <td>25521.500000</td>\n",
       "    </tr>\n",
       "    <tr>\n",
       "      <th>75%</th>\n",
       "      <td>42.565900</td>\n",
       "      <td>42.809750</td>\n",
       "      <td>71.250000</td>\n",
       "      <td>27727.750000</td>\n",
       "    </tr>\n",
       "    <tr>\n",
       "      <th>max</th>\n",
       "      <td>60.932800</td>\n",
       "      <td>61.909400</td>\n",
       "      <td>90.000000</td>\n",
       "      <td>28765.000000</td>\n",
       "    </tr>\n",
       "  </tbody>\n",
       "</table>\n",
       "</div>"
      ],
      "text/plain": [
       "                0           1           2             3\n",
       "count  108.000000  108.000000  108.000000    108.000000\n",
       "mean    25.133757   25.726710   63.518519  21696.074074\n",
       "std     19.432392   19.555844   14.383585   6898.906184\n",
       "min      0.058000    0.232200   31.000000   7827.000000\n",
       "25%      5.479600    5.691475   62.500000  14306.000000\n",
       "50%     23.123800   23.925500   67.000000  25521.500000\n",
       "75%     42.565900   42.809750   71.250000  27727.750000\n",
       "max     60.932800   61.909400   90.000000  28765.000000"
      ]
     },
     "execution_count": 31,
     "metadata": {},
     "output_type": "execute_result"
    }
   ],
   "source": [
    "df.describe()"
   ]
  },
  {
   "cell_type": "code",
   "execution_count": 32,
   "metadata": {},
   "outputs": [],
   "source": [
    "groups = {\n",
    "    \"oktaf_0\" : (12,24),\n",
    "    \"oktaf_1\" : (24,36),\n",
    "    \"oktaf_2\" : (36,48),\n",
    "    \"oktaf_3\" : (48,60),\n",
    "    \"oktaf_4\" : (60,72),\n",
    "    \"oktaf_5\" : (72,84),\n",
    "    \"oktaf_6\" : (84,96),\n",
    "    \"oktaf_7\" : (96,108),\n",
    "    \"oktaf_8\" : (108,120)}"
   ]
  },
  {
   "cell_type": "code",
   "execution_count": 33,
   "metadata": {},
   "outputs": [],
   "source": [
    "def oktaf_chart(group_counts, sorted_dict):\n",
    "    # Create a figure and a set of subplots\n",
    "    fig, axs = plt.subplots(nrows=1, ncols=2, figsize=(10, 5))\n",
    "\n",
    "    # Generate the first bar chart on the first subplot\n",
    "    axs[0].bar(group_counts.keys(), group_counts.values())\n",
    "    axs[0].set_title('Bar Chart 1')\n",
    "    axs[0].set_xlabel('Categories')\n",
    "    axs[0].set_ylabel('Values')\n",
    "    plt.setp(axs[0].xaxis.get_majorticklabels(), rotation=45)\n",
    "\n",
    "    # Generate the second bar chart on the second subplot\n",
    "    axs[1].bar(sorted_dict.keys(), sorted_dict.values())\n",
    "    axs[1].set_title('Bar Chart 2')\n",
    "    axs[1].set_xlabel('Categories')\n",
    "    axs[1].set_ylabel('Values')\n",
    "    plt.setp(axs[1].xaxis.get_majorticklabels(), rotation=45)\n",
    "\n",
    "    # Adjust the layout so everything fits\n",
    "    plt.tight_layout()\n",
    "\n",
    "    # Show the plot\n",
    "    plt.show()"
   ]
  },
  {
   "cell_type": "code",
   "execution_count": 34,
   "metadata": {},
   "outputs": [
    {
     "data": {
      "image/png": "[encoded data removed]",
      "text/plain": [
       "<Figure size 1000x500 with 2 Axes>"
      ]
     },
     "metadata": {},
     "output_type": "display_data"
    },
    {
     "data": {
      "text/html": [
       "<div>\n",
       "<style scoped>\n",
       "    .dataframe tbody tr th:only-of-type {\n",
       "        vertical-align: middle;\n",
       "    }\n",
       "\n",
       "    .dataframe tbody tr th {\n",
       "        vertical-align: top;\n",
       "    }\n",
       "\n",
       "    .dataframe thead th {\n",
       "        text-align: right;\n",
       "    }\n",
       "</style>\n",
       "<table border=\"1\" class=\"dataframe\">\n",
       "  <thead>\n",
       "    <tr style=\"text-align: right;\">\n",
       "      <th></th>\n",
       "      <th>0</th>\n",
       "      <th>1</th>\n",
       "      <th>2</th>\n",
       "      <th>3</th>\n",
       "    </tr>\n",
       "  </thead>\n",
       "  <tbody>\n",
       "    <tr>\n",
       "      <th>count</th>\n",
       "      <td>108.000000</td>\n",
       "      <td>108.000000</td>\n",
       "      <td>108.000000</td>\n",
       "      <td>108.000000</td>\n",
       "    </tr>\n",
       "    <tr>\n",
       "      <th>mean</th>\n",
       "      <td>25.133757</td>\n",
       "      <td>25.726710</td>\n",
       "      <td>63.518519</td>\n",
       "      <td>21696.074074</td>\n",
       "    </tr>\n",
       "    <tr>\n",
       "      <th>std</th>\n",
       "      <td>19.432392</td>\n",
       "      <td>19.555844</td>\n",
       "      <td>14.383585</td>\n",
       "      <td>6898.906184</td>\n",
       "    </tr>\n",
       "    <tr>\n",
       "      <th>min</th>\n",
       "      <td>0.058000</td>\n",
       "      <td>0.232200</td>\n",
       "      <td>31.000000</td>\n",
       "      <td>7827.000000</td>\n",
       "    </tr>\n",
       "    <tr>\n",
       "      <th>25%</th>\n",
       "      <td>5.479600</td>\n",
       "      <td>5.691475</td>\n",
       "      <td>62.500000</td>\n",
       "      <td>14306.000000</td>\n",
       "    </tr>\n",
       "    <tr>\n",
       "      <th>50%</th>\n",
       "      <td>23.123800</td>\n",
       "      <td>23.925500</td>\n",
       "      <td>67.000000</td>\n",
       "      <td>25521.500000</td>\n",
       "    </tr>\n",
       "    <tr>\n",
       "      <th>75%</th>\n",
       "      <td>42.565900</td>\n",
       "      <td>42.809750</td>\n",
       "      <td>71.250000</td>\n",
       "      <td>27727.750000</td>\n",
       "    </tr>\n",
       "    <tr>\n",
       "      <th>max</th>\n",
       "      <td>60.932800</td>\n",
       "      <td>61.909400</td>\n",
       "      <td>90.000000</td>\n",
       "      <td>28765.000000</td>\n",
       "    </tr>\n",
       "  </tbody>\n",
       "</table>\n",
       "</div>"
      ],
      "text/plain": [
       "                0           1           2             3\n",
       "count  108.000000  108.000000  108.000000    108.000000\n",
       "mean    25.133757   25.726710   63.518519  21696.074074\n",
       "std     19.432392   19.555844   14.383585   6898.906184\n",
       "min      0.058000    0.232200   31.000000   7827.000000\n",
       "25%      5.479600    5.691475   62.500000  14306.000000\n",
       "50%     23.123800   23.925500   67.000000  25521.500000\n",
       "75%     42.565900   42.809750   71.250000  27727.750000\n",
       "max     60.932800   61.909400   90.000000  28765.000000"
      ]
     },
     "execution_count": 34,
     "metadata": {},
     "output_type": "execute_result"
    }
   ],
   "source": [
    "# Initialize counters for each group\n",
    "group_counts = {key: 0 for key in groups}\n",
    "\n",
    "# Iterate through the dataset and count the members in each group\n",
    "for record in note_events:\n",
    "    value = record[2]\n",
    "    for group_name, (lower_bound, upper_bound) in groups.items():\n",
    "        if lower_bound <= value < upper_bound:\n",
    "            group_counts[group_name] += 1\n",
    "            break\n",
    "\n",
    "# Sorting using sorted() method\n",
    "sorted_dict = {key: value for key, \n",
    "               value in sorted(group_counts.items(), \n",
    "                               key=lambda item: item[1], reverse = True)}\n",
    "\n",
    "oktaf_chart(group_counts=group_counts, sorted_dict=sorted_dict)\n",
    "\n",
    "df.describe()"
   ]
  },
  {
   "cell_type": "code",
   "execution_count": 35,
   "metadata": {},
   "outputs": [],
   "source": [
    "top_4 = [key for key, value in sorted(group_counts.items(), key=lambda item: item[1], reverse=True)[:4]]\n",
    "top_4.sort(reverse=False)\n",
    "low_key = top_4[:1]\n",
    "middle_key = top_4[1:3]\n",
    "high_key = top_4[3:]"
   ]
  },
  {
   "cell_type": "code",
   "execution_count": 36,
   "metadata": {},
   "outputs": [
    {
     "data": {
      "text/plain": [
       "['oktaf_3', 'oktaf_4']"
      ]
     },
     "execution_count": 36,
     "metadata": {},
     "output_type": "execute_result"
    }
   ],
   "source": [
    "middle_key"
   ]
  },
  {
   "cell_type": "code",
   "execution_count": 37,
   "metadata": {},
   "outputs": [
    {
     "data": {
      "text/plain": [
       "['oktaf_1']"
      ]
     },
     "execution_count": 37,
     "metadata": {},
     "output_type": "execute_result"
    }
   ],
   "source": [
    "low_key"
   ]
  },
  {
   "cell_type": "code",
   "execution_count": 38,
   "metadata": {},
   "outputs": [
    {
     "data": {
      "text/plain": [
       "['oktaf_5']"
      ]
     },
     "execution_count": 38,
     "metadata": {},
     "output_type": "execute_result"
    }
   ],
   "source": [
    "high_key"
   ]
  },
  {
   "cell_type": "code",
   "execution_count": 39,
   "metadata": {},
   "outputs": [],
   "source": [
    "# Initialize a dictionary to hold the grouped data\n",
    "grouped_data = {key: [] for key in groups.keys()}\n",
    "\n",
    "# Loop through the song data\n",
    "for song in note_events:\n",
    "    # Get the frequency of the song\n",
    "    frequency = song[2]\n",
    "    \n",
    "    # Loop through the groups to find where the frequency fits\n",
    "    for group, (lower, upper) in groups.items():\n",
    "        if lower <= frequency < upper:\n",
    "            # Add the song to the corresponding group\n",
    "            grouped_data[group].append(song)\n",
    "            break\n",
    "\n",
    "# Now, grouped_data contains the song data grouped by the specified groups\n",
    "\n",
    "# Select the groups from grouped_data that are in list_group\n",
    "selected_groups = {key: grouped_data[key] for key in top_4 if key in grouped_data}\n",
    "\n",
    "# Now, selected_groups contains the groups from grouped_data that are in list_group\n"
   ]
  },
  {
   "cell_type": "code",
   "execution_count": 40,
   "metadata": {},
   "outputs": [],
   "source": [
    "low = selected_groups[low_key[0]]\n",
    "middle = [selected_groups[key] for key in middle_key]\n",
    "middle = [item for sublist in middle for item in sublist]\n",
    "high = selected_groups[high_key[0]]"
   ]
  },
  {
   "cell_type": "code",
   "execution_count": 41,
   "metadata": {},
   "outputs": [],
   "source": [
    "low_low = groups[low_key[0]][0]\n",
    "middle_low = groups[middle_key[0]][0]\n",
    "high_low = ((groups[high_key[0]][0]) - 12)\n",
    "low_reduced = [(item[0], item[1], item[2] - low_low, item[3]) for item in low]\n",
    "mid_reduced = [(item[0], item[1], item[2] - middle_low, item[3]) for item in middle]\n",
    "high_reduced = [(item[0], item[1], item[2] - high_low, item[3]) for item in high]\n",
    "# reduced = low_reduced + mid_reduced + high_reduced\n",
    "reduced = mid_reduced"
   ]
  },
  {
   "cell_type": "code",
   "execution_count": 42,
   "metadata": {},
   "outputs": [
    {
     "data": {
      "text/plain": [
       "[(0.0697, 0.2322, 8, 11028),\n",
       " (1.0333, 1.1958, 11, 9013),\n",
       " (1.2074, 1.4977, 11, 14935),\n",
       " (1.6718, 1.8576, 11, 13605),\n",
       " (2.1027, 2.242, 11, 12716),\n",
       " (2.9038, 3.2869, 11, 16236),\n",
       " (3.1011, 3.2869, 8, 13165),\n",
       " (0.1858, 0.4876, 12, 10410),\n",
       " (0.6153, 0.8243, 15, 14345),\n",
       " (0.685, 0.8475, 12, 11379),\n",
       " (0.7546, 0.9056, 20, 11430),\n",
       " (1.6951, 1.9156, 16, 20118),\n",
       " (1.9156, 2.0911, 16, 18932),\n",
       " (1.9621, 2.1027, 20, 15466),\n",
       " (2.0911, 2.4626, 16, 19958),\n",
       " (2.4626, 2.8225, 16, 18713),\n",
       " (2.509, 2.6948, 13, 14076),\n",
       " (2.9154, 3.0663, 20, 15037),\n",
       " (5.587, 6.5054, 23, 28624),\n",
       " (8.0044, 8.6546, 23, 27739),\n",
       " (8.8519, 9.3279, 23, 23022),\n",
       " (9.3279, 9.7459, 23, 27972),\n",
       " (10.2348, 10.6876, 19, 26504),\n",
       " (10.676, 11.152, 17, 27043),\n",
       " (11.152, 13.1386, 16, 26755),\n",
       " (14.0919, 14.5215, 16, 25903),\n",
       " (14.5679, 15.0671, 19, 27901),\n",
       " (15.0439, 15.9972, 23, 28078),\n",
       " (16.0088, 16.4848, 16, 24812),\n",
       " (16.5197, 17.0073, 19, 27480),\n",
       " (16.9957, 18.1231, 23, 28622),\n",
       " (21.1198, 22.1543, 23, 28692),\n",
       " (23.7914, 24.4776, 23, 27537),\n",
       " (24.7214, 25.2323, 23, 21333),\n",
       " (25.2323, 25.7083, 23, 28127),\n",
       " (26.3017, 26.8241, 19, 27724),\n",
       " (26.8125, 27.2885, 17, 27896),\n",
       " (27.2885, 29.1242, 16, 26633),\n",
       " (29.7395, 30.1355, 16, 24988),\n",
       " (30.182, 30.7276, 19, 27742),\n",
       " (30.7044, 31.7029, 23, 28254),\n",
       " (31.7261, 32.1802, 16, 25430),\n",
       " (32.2382, 32.7723, 19, 28256),\n",
       " (32.7723, 34.1435, 23, 28509),\n",
       " (37.1518, 38.1283, 23, 28453),\n",
       " (39.5912, 40.2775, 23, 27905),\n",
       " (40.4981, 40.9741, 23, 22483),\n",
       " (40.9741, 41.5662, 23, 28323),\n",
       " (42.0202, 42.5543, 19, 27203),\n",
       " (42.5659, 43.0535, 17, 27018),\n",
       " (43.0884, 44.9821, 16, 26858),\n",
       " (45.6322, 46.0863, 16, 26141),\n",
       " (46.1211, 46.6204, 19, 27616),\n",
       " (46.6088, 47.6769, 23, 28413),\n",
       " (47.6653, 48.1077, 16, 24610),\n",
       " (48.189, 48.665, 19, 27267),\n",
       " (48.6766, 50.222, 23, 28765),\n",
       " (53.091, 54.0791, 23, 28598),\n",
       " (55.5768, 56.3327, 23, 27859),\n",
       " (56.5417, 57.0409, 23, 21237),\n",
       " (57.0409, 57.5053, 23, 27802),\n",
       " (57.9942, 58.5747, 19, 27430),\n",
       " (58.5863, 59.1088, 17, 27330),\n",
       " (59.1088, 61.316, 16, 26598)]"
      ]
     },
     "execution_count": 42,
     "metadata": {},
     "output_type": "execute_result"
    }
   ],
   "source": [
    "reduced"
   ]
  },
  {
   "cell_type": "code",
   "execution_count": 43,
   "metadata": {},
   "outputs": [],
   "source": [
    "def oktaf_scatter(df, df_1):\n",
    "    # Create a figure and a set of subplots\n",
    "    fig, axs = plt.subplots(nrows=1, ncols=2, figsize=(10, 5))\n",
    "\n",
    "    # Generate the first bar chart on the first subplot\n",
    "    axs[0].set_title('Bar Chart 1')\n",
    "    axs[0].scatter(df[2], df[3])\n",
    "    axs[0].set_xlabel('tone')\n",
    "    axs[0].set_ylabel('flow')\n",
    "    plt.setp(axs[0].xaxis.get_majorticklabels(), rotation=45)\n",
    "\n",
    "    # Generate the second bar chart on the second subplot\n",
    "    axs[1].set_title('Bar Chart 2')\n",
    "    axs[1].scatter(df_1[2], df_1[3])\n",
    "    axs[1].set_xlabel('tone')\n",
    "    axs[1].set_ylabel('flow')\n",
    "    plt.setp(axs[1].xaxis.get_majorticklabels(), rotation=45)\n",
    "\n",
    "    # Adjust the layout so everything fits\n",
    "    plt.tight_layout()\n",
    "\n",
    "    # Show the plot\n",
    "    plt.show()"
   ]
  },
  {
   "cell_type": "code",
   "execution_count": 44,
   "metadata": {},
   "outputs": [
    {
     "data": {
      "image/png": "[encoded data removed]",
      "text/plain": [
       "<Figure size 1000x500 with 2 Axes>"
      ]
     },
     "metadata": {},
     "output_type": "display_data"
    }
   ],
   "source": [
    "df_1 = pd.DataFrame(middle)\n",
    "oktaf_scatter(df=df, df_1=df_1)"
   ]
  },
  {
   "cell_type": "code",
   "execution_count": 45,
   "metadata": {},
   "outputs": [],
   "source": [
    "def cekcek(lagu):\n",
    "    groups = {\n",
    "    \"oktaf_0\" : (12,24),\n",
    "    \"oktaf_1\" : (24,36),\n",
    "    \"oktaf_2\" : (36,48),\n",
    "    \"oktaf_3\" : (48,60),\n",
    "    \"oktaf_4\" : (60,72),\n",
    "    \"oktaf_5\" : (72,84),\n",
    "    \"oktaf_6\" : (84,96),\n",
    "    \"oktaf_7\" : (96,108),\n",
    "    \"oktaf_8\" : (108,120)}\n",
    "    \n",
    "    INPUT_SOURCE = f'./test/{lagu}'\n",
    "    model_output, midi_data, note_events = predict(INPUT_SOURCE, model)\n",
    "    note_events = [(round(item[0],4), round(item[1],4), item[2], round(item[3]*32767)) for item in note_events]\n",
    "    note_events = sorted(note_events, key=lambda x: x[0])\n",
    "    df = pd.DataFrame(note_events)\n",
    "    df[2].sort_values(ascending=True)\n",
    "\n",
    "    Q1 = df[2].quantile(0.25)\n",
    "    Q3 = df[2].quantile(0.75)\n",
    "    IQR = Q3-Q1\n",
    "    lower = df[2] < Q1 - (1.5*IQR)\n",
    "    higher = df[2] > Q3 + (1.5*IQR)\n",
    "    print(f\"\\n\\n{Q1}/{Q3}\")\n",
    "    print(IQR)\n",
    "    print(f\"{Q1 - (1.5*IQR)}/{Q3 - (1.5*IQR)}\\n\")\n",
    "\n",
    "    df[2].drop(df[2][lower].index, inplace=True)\n",
    "    df[2].drop(df[2][higher].index, inplace=True)\n",
    "\n",
    "    # Initialize counters for each group\n",
    "    group_counts = {key: 0 for key in groups}\n",
    "\n",
    "    # Iterate through the dataset and count the members in each group\n",
    "    for record in note_events:\n",
    "        value = record[2]\n",
    "        for group_name, (lower_bound, upper_bound) in groups.items():\n",
    "            if lower_bound <= value < upper_bound:\n",
    "                group_counts[group_name] += 1\n",
    "                break\n",
    "\n",
    "    # Sorting using sorted() method\n",
    "    sorted_dict = {key: value for key, \n",
    "                value in sorted(group_counts.items(), \n",
    "                                key=lambda item: item[1], reverse = True)}\n",
    "\n",
    "    for group_name, (lower_bound, upper_bound) in groups.items():\n",
    "        if lower_bound <= int(df[2].mean()) < upper_bound:\n",
    "            print(f'{group_name}')\n",
    "    \n",
    "    oktaf_chart(group_counts=group_counts, sorted_dict=sorted_dict)\n"
   ]
  },
  {
   "cell_type": "code",
   "execution_count": 46,
   "metadata": {},
   "outputs": [
    {
     "name": "stdout",
     "output_type": "stream",
     "text": [
      "Predicting MIDI for ./test/short - Bella ciao.mp3...\n"
     ]
    },
    {
     "name": "stderr",
     "output_type": "stream",
     "text": [
      "[src/libmpg123/parse.c:skip_junk():1276] error: Giving up searching valid MPEG header after 65536 bytes of junk.\n",
      "/home/imamaf/.pyenv/versions/3.9.2/lib/python3.9/site-packages/basic_pitch/inference.py:229: UserWarning: PySoundFile failed. Trying audioread instead.\n",
      "  audio_original, _ = librosa.load(str(audio_path), sr=AUDIO_SAMPLE_RATE, mono=True)\n",
      "/home/imamaf/.pyenv/versions/3.9.2/lib/python3.9/site-packages/librosa/core/audio.py:183: FutureWarning: librosa.core.audio.__audioread_load\n",
      "\tDeprecated as of librosa version 0.10.0.\n",
      "\tIt will be removed in librosa version 1.0.\n",
      "  y, sr_native = __audioread_load(path, offset, duration, dtype)\n"
     ]
    },
    {
     "name": "stdout",
     "output_type": "stream",
     "text": [
      "\n",
      "\n",
      "71.0/77.0\n",
      "6.0\n",
      "62.0/68.0\n",
      "\n",
      "oktaf_5\n"
     ]
    },
    {
     "data": {
      "image/png": "[encoded data removed]",
      "text/plain": [
       "<Figure size 1000x500 with 2 Axes>"
      ]
     },
     "metadata": {},
     "output_type": "display_data"
    }
   ],
   "source": [
    "lagu = 'short - Bella ciao.mp3'\n",
    "cekcek(lagu=lagu)"
   ]
  }
 ],
 "metadata": {
  "kernelspec": {
   "display_name": "Python 3",
   "language": "python",
   "name": "python3"
  },
  "language_info": {
   "codemirror_mode": {
    "name": "ipython",
    "version": 3
   },
   "file_extension": ".py",
   "mimetype": "text/x-python",
   "name": "python",
   "nbconvert_exporter": "python",
   "pygments_lexer": "ipython3",
   "version": "3.9.2"
  }
 },
 "nbformat": 4,
 "nbformat_minor": 2
}
