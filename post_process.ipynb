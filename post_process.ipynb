{
 "cells": [
  {
   "cell_type": "code",
   "execution_count": 1,
   "metadata": {},
   "outputs": [
    {
     "name": "stderr",
     "output_type": "stream",
     "text": [
      "WARNING:root:Coremltools is not installed. If you plan to use a CoreML Saved Model, reinstall basic-pitch with `pip install 'basic-pitch[coreml]'`\n",
      "WARNING:root:onnxruntime is not installed. If you plan to use an ONNX Model, reinstall basic-pitch with `pip install 'basic-pitch[onnx]'`\n",
      "2024-06-15 16:16:55.267413: I tensorflow/core/platform/cpu_feature_guard.cc:182] This TensorFlow binary is optimized to use available CPU instructions in performance-critical operations.\n",
      "To enable the following instructions: AVX2 FMA, in other operations, rebuild TensorFlow with the appropriate compiler flags.\n",
      "2024-06-15 16:16:59.922985: W tensorflow/compiler/tf2tensorrt/utils/py_utils.cc:38] TF-TRT Warning: Could not find TensorRT\n"
     ]
    }
   ],
   "source": [
    "import os\n",
    "import time\n",
    "import pandas as pd\n",
    "import seaborn as sns\n",
    "import matplotlib.pyplot as plt\n",
    "\n",
    "from basic_pitch import ICASSP_2022_MODEL_PATH\n",
    "from basic_pitch.inference import Model, predict"
   ]
  },
  {
   "cell_type": "code",
   "execution_count": 2,
   "metadata": {},
   "outputs": [
    {
     "name": "stderr",
     "output_type": "stream",
     "text": [
      "2024-06-15 16:17:02.580099: I tensorflow/compiler/xla/stream_executor/cuda/cuda_gpu_executor.cc:995] successful NUMA node read from SysFS had negative value (-1), but there must be at least one NUMA node, so returning NUMA node zero. See more at https://github.com/torvalds/linux/blob/v6.0/Documentation/ABI/testing/sysfs-bus-pci#L344-L355\n",
      "2024-06-15 16:17:02.707463: I tensorflow/compiler/xla/stream_executor/cuda/cuda_gpu_executor.cc:995] successful NUMA node read from SysFS had negative value (-1), but there must be at least one NUMA node, so returning NUMA node zero. See more at https://github.com/torvalds/linux/blob/v6.0/Documentation/ABI/testing/sysfs-bus-pci#L344-L355\n",
      "2024-06-15 16:17:02.708211: I tensorflow/compiler/xla/stream_executor/cuda/cuda_gpu_executor.cc:995] successful NUMA node read from SysFS had negative value (-1), but there must be at least one NUMA node, so returning NUMA node zero. See more at https://github.com/torvalds/linux/blob/v6.0/Documentation/ABI/testing/sysfs-bus-pci#L344-L355\n",
      "2024-06-15 16:17:02.713601: I tensorflow/compiler/xla/stream_executor/cuda/cuda_gpu_executor.cc:995] successful NUMA node read from SysFS had negative value (-1), but there must be at least one NUMA node, so returning NUMA node zero. See more at https://github.com/torvalds/linux/blob/v6.0/Documentation/ABI/testing/sysfs-bus-pci#L344-L355\n",
      "2024-06-15 16:17:02.716283: I tensorflow/compiler/xla/stream_executor/cuda/cuda_gpu_executor.cc:995] successful NUMA node read from SysFS had negative value (-1), but there must be at least one NUMA node, so returning NUMA node zero. See more at https://github.com/torvalds/linux/blob/v6.0/Documentation/ABI/testing/sysfs-bus-pci#L344-L355\n",
      "2024-06-15 16:17:02.717945: I tensorflow/compiler/xla/stream_executor/cuda/cuda_gpu_executor.cc:995] successful NUMA node read from SysFS had negative value (-1), but there must be at least one NUMA node, so returning NUMA node zero. See more at https://github.com/torvalds/linux/blob/v6.0/Documentation/ABI/testing/sysfs-bus-pci#L344-L355\n",
      "2024-06-15 16:17:03.015659: I tensorflow/compiler/xla/stream_executor/cuda/cuda_gpu_executor.cc:995] successful NUMA node read from SysFS had negative value (-1), but there must be at least one NUMA node, so returning NUMA node zero. See more at https://github.com/torvalds/linux/blob/v6.0/Documentation/ABI/testing/sysfs-bus-pci#L344-L355\n",
      "2024-06-15 16:17:03.016098: I tensorflow/compiler/xla/stream_executor/cuda/cuda_gpu_executor.cc:995] successful NUMA node read from SysFS had negative value (-1), but there must be at least one NUMA node, so returning NUMA node zero. See more at https://github.com/torvalds/linux/blob/v6.0/Documentation/ABI/testing/sysfs-bus-pci#L344-L355\n",
      "2024-06-15 16:17:03.016546: I tensorflow/compiler/xla/stream_executor/cuda/cuda_gpu_executor.cc:995] successful NUMA node read from SysFS had negative value (-1), but there must be at least one NUMA node, so returning NUMA node zero. See more at https://github.com/torvalds/linux/blob/v6.0/Documentation/ABI/testing/sysfs-bus-pci#L344-L355\n",
      "2024-06-15 16:17:03.016846: I tensorflow/core/common_runtime/gpu/gpu_device.cc:1639] Created device /job:localhost/replica:0/task:0/device:GPU:0 with 720 MB memory:  -> device: 0, name: NVIDIA GeForce RTX 2060 with Max-Q Design, pci bus id: 0000:01:00.0, compute capability: 7.5\n"
     ]
    }
   ],
   "source": [
    "model = Model(ICASSP_2022_MODEL_PATH)"
   ]
  },
  {
   "cell_type": "code",
   "execution_count": 40,
   "metadata": {},
   "outputs": [],
   "source": [
    "INPUT_SOURCE = './test/short - Bella ciao.mp3'"
   ]
  },
  {
   "cell_type": "code",
   "execution_count": 41,
   "metadata": {},
   "outputs": [
    {
     "name": "stdout",
     "output_type": "stream",
     "text": [
      "Predicting MIDI for ./test/short - Indonesia Pusaka.mp3...\n"
     ]
    },
    {
     "name": "stderr",
     "output_type": "stream",
     "text": [
      "/home/imamaf/.pyenv/versions/3.9.2/lib/python3.9/site-packages/basic_pitch/inference.py:229: UserWarning: PySoundFile failed. Trying audioread instead.\n",
      "  audio_original, _ = librosa.load(str(audio_path), sr=AUDIO_SAMPLE_RATE, mono=True)\n",
      "[src/libmpg123/parse.c:skip_junk():1276] error: Giving up searching valid MPEG header after 65536 bytes of junk.\n",
      "/home/imamaf/.pyenv/versions/3.9.2/lib/python3.9/site-packages/librosa/core/audio.py:183: FutureWarning: librosa.core.audio.__audioread_load\n",
      "\tDeprecated as of librosa version 0.10.0.\n",
      "\tIt will be removed in librosa version 1.0.\n",
      "  y, sr_native = __audioread_load(path, offset, duration, dtype)\n"
     ]
    }
   ],
   "source": [
    "model_output, midi_data, note_events = predict(INPUT_SOURCE, model)"
   ]
  },
  {
   "cell_type": "code",
   "execution_count": null,
   "outputs": [],
   "source": [
    "note_events = [(round(item[0],4), round(item[1],4), item[2], round(item[3]*32767)) for item in note_events]"
   ],
   "metadata": {
    "collapsed": false
   }
  },
  {
   "cell_type": "code",
   "execution_count": null,
   "outputs": [],
   "source": [
    "note_events = sorted(note_events, key=lambda x: x[0])"
   ],
   "metadata": {
    "collapsed": false
   }
  },
  {
   "cell_type": "code",
   "execution_count": null,
   "outputs": [],
   "source": [
    "df = pd.DataFrame(note_events)"
   ],
   "metadata": {
    "collapsed": false
   }
  },
  {
   "cell_type": "code",
   "execution_count": null,
   "outputs": [],
   "source": [
    "df[2].sort_values(ascending=True)"
   ],
   "metadata": {
    "collapsed": false
   }
  },
  {
   "cell_type": "code",
   "execution_count": null,
   "outputs": [],
   "source": [
    "df.describe()"
   ],
   "metadata": {
    "collapsed": false
   }
  },
  {
   "cell_type": "code",
   "execution_count": null,
   "outputs": [],
   "source": [
    "groups = {\n",
    "    \"oktaf_0\" : (12,24),\n",
    "    \"oktaf_1\" : (24,36),\n",
    "    \"oktaf_2\" : (36,48),\n",
    "    \"oktaf_3\" : (48,60),\n",
    "    \"oktaf_4\" : (60,72),\n",
    "    \"oktaf_5\" : (72,84),\n",
    "    \"oktaf_6\" : (84,96),\n",
    "    \"oktaf_7\" : (96,108),\n",
    "    \"oktaf_8\" : (108,120)}"
   ],
   "metadata": {
    "collapsed": false
   }
  },
  {
   "cell_type": "code",
   "execution_count": null,
   "outputs": [],
   "source": [
    "def oktaf_chart(group_counts, sorted_dict):\n",
    "    # Create a figure and a set of subplots\n",
    "    fig, axs = plt.subplots(nrows=1, ncols=2, figsize=(10, 5))\n",
    "\n",
    "    # Generate the first bar chart on the first subplot\n",
    "    axs[0].bar(group_counts.keys(), group_counts.values())\n",
    "    axs[0].set_title('Bar Chart 1')\n",
    "    axs[0].set_xlabel('Categories')\n",
    "    axs[0].set_ylabel('Values')\n",
    "    plt.setp(axs[0].xaxis.get_majorticklabels(), rotation=45)\n",
    "\n",
    "    # Generate the second bar chart on the second subplot\n",
    "    axs[1].bar(sorted_dict.keys(), sorted_dict.values())\n",
    "    axs[1].set_title('Bar Chart 2')\n",
    "    axs[1].set_xlabel('Categories')\n",
    "    axs[1].set_ylabel('Values')\n",
    "    plt.setp(axs[1].xaxis.get_majorticklabels(), rotation=45)\n",
    "\n",
    "    # Adjust the layout so everything fits\n",
    "    plt.tight_layout()\n",
    "\n",
    "    # Show the plot\n",
    "    plt.show()"
   ],
   "metadata": {
    "collapsed": false
   }
  },
  {
   "cell_type": "code",
   "execution_count": null,
   "outputs": [],
   "source": [
    "# Initialize counters for each group\n",
    "group_counts = {key: 0 for key in groups}\n",
    "\n",
    "# Iterate through the dataset and count the members in each group\n",
    "for record in note_events:\n",
    "    value = record[2]\n",
    "    for group_name, (lower_bound, upper_bound) in groups.items():\n",
    "        if lower_bound <= value < upper_bound:\n",
    "            group_counts[group_name] += 1\n",
    "            break\n",
    "\n",
    "# Sorting using sorted() method\n",
    "sorted_dict = {key: value for key, \n",
    "               value in sorted(group_counts.items(), \n",
    "                               key=lambda item: item[1], reverse = True)}\n",
    "\n",
    "oktaf_chart(group_counts=group_counts, sorted_dict=sorted_dict)\n",
    "\n",
    "df.describe()"
   ],
   "metadata": {
    "collapsed": false
   }
  },
  {
   "cell_type": "code",
   "execution_count": null,
   "outputs": [],
   "source": [
    "top_4 = [key for key, value in sorted(group_counts.items(), key=lambda item: item[1], reverse=True)[:4]]\n",
    "top_4.sort(reverse=False)\n",
    "low_key = top_4[:1]\n",
    "middle_key = top_4[1:3]\n",
    "high_key = top_4[3:]"
   ],
   "metadata": {
    "collapsed": false
   }
  },
  {
   "cell_type": "code",
   "execution_count": null,
   "outputs": [],
   "source": [
    "middle_key"
   ],
   "metadata": {
    "collapsed": false
   }
  },
  {
   "cell_type": "code",
   "execution_count": null,
   "outputs": [],
   "source": [
    "low_key"
   ],
   "metadata": {
    "collapsed": false
   }
  },
  {
   "cell_type": "code",
   "execution_count": null,
   "outputs": [],
   "source": [
    "high_key"
   ],
   "metadata": {
    "collapsed": false
   }
  },
  {
   "cell_type": "code",
   "execution_count": null,
   "outputs": [],
   "source": [
    "# Initialize a dictionary to hold the grouped data\n",
    "grouped_data = {key: [] for key in groups.keys()}\n",
    "\n",
    "# Loop through the song data\n",
    "for song in note_events:\n",
    "    # Get the frequency of the song\n",
    "    frequency = song[2]\n",
    "    \n",
    "    # Loop through the groups to find where the frequency fits\n",
    "    for group, (lower, upper) in groups.items():\n",
    "        if lower <= frequency < upper:\n",
    "            # Add the song to the corresponding group\n",
    "            grouped_data[group].append(song)\n",
    "            break\n",
    "\n",
    "# Now, grouped_data contains the song data grouped by the specified groups\n",
    "\n",
    "# Select the groups from grouped_data that are in list_group\n",
    "selected_groups = {key: grouped_data[key] for key in top_4 if key in grouped_data}\n",
    "\n",
    "# Now, selected_groups contains the groups from grouped_data that are in list_group\n"
   ],
   "metadata": {
    "collapsed": false
   }
  },
  {
   "cell_type": "code",
   "execution_count": null,
   "outputs": [],
   "source": [
    "low = selected_groups[low_key[0]]\n",
    "middle = [selected_groups[key] for key in middle_key]\n",
    "middle = [item for sublist in middle for item in sublist]\n",
    "high = selected_groups[high_key[0]]"
   ],
   "metadata": {
    "collapsed": false
   }
  },
  {
   "cell_type": "code",
   "execution_count": null,
   "outputs": [],
   "source": [
    "low_low = groups[low_key[0]][0]\n",
    "middle_low = groups[middle_key[0]][0]\n",
    "high_low = ((groups[high_key[0]][0]) - 12)\n",
    "low_reduced = [(item[0], item[1], item[2] - low_low, item[3]) for item in low]\n",
    "mid_reduced = [(item[0], item[1], item[2] - middle_low, item[3]) for item in middle]\n",
    "high_reduced = [(item[0], item[1], item[2] - high_low, item[3]) for item in high]\n",
    "# reduced = low_reduced + mid_reduced + high_reduced\n",
    "reduced = mid_reduced"
   ],
   "metadata": {
    "collapsed": false
   }
  },
  {
   "cell_type": "code",
   "execution_count": null,
   "outputs": [],
   "source": [
    "reduced"
   ],
   "metadata": {
    "collapsed": false
   }
  },
  {
   "cell_type": "code",
   "execution_count": null,
   "outputs": [],
   "source": [
    "def oktaf_scatter(df, df_1):\n",
    "    # Create a figure and a set of subplots\n",
    "    fig, axs = plt.subplots(nrows=1, ncols=2, figsize=(10, 5))\n",
    "\n",
    "    # Generate the first bar chart on the first subplot\n",
    "    axs[0].set_title('Bar Chart 1')\n",
    "    axs[0].scatter(df[2], df[3])\n",
    "    axs[0].set_xlabel('tone')\n",
    "    axs[0].set_ylabel('flow')\n",
    "    plt.setp(axs[0].xaxis.get_majorticklabels(), rotation=45)\n",
    "\n",
    "    # Generate the second bar chart on the second subplot\n",
    "    axs[1].set_title('Bar Chart 2')\n",
    "    axs[1].scatter(df_1[2], df_1[3])\n",
    "    axs[1].set_xlabel('tone')\n",
    "    axs[1].set_ylabel('flow')\n",
    "    plt.setp(axs[1].xaxis.get_majorticklabels(), rotation=45)\n",
    "\n",
    "    # Adjust the layout so everything fits\n",
    "    plt.tight_layout()\n",
    "\n",
    "    # Show the plot\n",
    "    plt.show()"
   ],
   "metadata": {
    "collapsed": false
   }
  },
  {
   "cell_type": "code",
   "execution_count": null,
   "outputs": [],
   "source": [
    "df_1 = pd.DataFrame(middle)\n",
    "oktaf_scatter(df=df, df_1=df_1)"
   ],
   "metadata": {
    "collapsed": false
   }
  },
  {
   "cell_type": "code",
   "execution_count": null,
   "outputs": [],
   "source": [
    "def cekcek(lagu):\n",
    "    groups = {\n",
    "    \"oktaf_0\" : (12,24),\n",
    "    \"oktaf_1\" : (24,36),\n",
    "    \"oktaf_2\" : (36,48),\n",
    "    \"oktaf_3\" : (48,60),\n",
    "    \"oktaf_4\" : (60,72),\n",
    "    \"oktaf_5\" : (72,84),\n",
    "    \"oktaf_6\" : (84,96),\n",
    "    \"oktaf_7\" : (96,108),\n",
    "    \"oktaf_8\" : (108,120)}\n",
    "    \n",
    "    INPUT_SOURCE = f'./test/{lagu}'\n",
    "    model_output, midi_data, note_events = predict(INPUT_SOURCE, model)\n",
    "    note_events = [(round(item[0],4), round(item[1],4), item[2], round(item[3]*32767)) for item in note_events]\n",
    "    note_events = sorted(note_events, key=lambda x: x[0])\n",
    "    df = pd.DataFrame(note_events)\n",
    "    df[2].sort_values(ascending=True)\n",
    "\n",
    "    Q1 = df[2].quantile(0.25)\n",
    "    Q3 = df[2].quantile(0.75)\n",
    "    IQR = Q3-Q1\n",
    "    lower = df[2] < Q1 - (1.5*IQR)\n",
    "    higher = df[2] > Q3 + (1.5*IQR)\n",
    "    print(f\"\\n\\n{Q1}/{Q3}\")\n",
    "    print(IQR)\n",
    "    print(f\"{Q1 - (1.5*IQR)}/{Q3 - (1.5*IQR)}\\n\")\n",
    "\n",
    "    df[2].drop(df[2][lower].index, inplace=True)\n",
    "    df[2].drop(df[2][higher].index, inplace=True)\n",
    "\n",
    "    # Initialize counters for each group\n",
    "    group_counts = {key: 0 for key in groups}\n",
    "\n",
    "    # Iterate through the dataset and count the members in each group\n",
    "    for record in note_events:\n",
    "        value = record[2]\n",
    "        for group_name, (lower_bound, upper_bound) in groups.items():\n",
    "            if lower_bound <= value < upper_bound:\n",
    "                group_counts[group_name] += 1\n",
    "                break\n",
    "\n",
    "    # Sorting using sorted() method\n",
    "    sorted_dict = {key: value for key, \n",
    "                value in sorted(group_counts.items(), \n",
    "                                key=lambda item: item[1], reverse = True)}\n",
    "\n",
    "    for group_name, (lower_bound, upper_bound) in groups.items():\n",
    "        if lower_bound <= int(df[2].mean()) < upper_bound:\n",
    "            print(f'{group_name}')\n",
    "    \n",
    "    oktaf_chart(group_counts=group_counts, sorted_dict=sorted_dict)\n"
   ],
   "metadata": {
    "collapsed": false
   }
  },
  {
   "cell_type": "code",
   "execution_count": null,
   "outputs": [],
   "source": [
    "lagu = 'short - Bella ciao.mp3'\n",
    "cekcek(lagu=lagu)"
   ],
   "metadata": {
    "collapsed": false
   }
  }
 ],
 "metadata": {
  "kernelspec": {
   "display_name": "Python 3",
   "language": "python",
   "name": "python3"
  },
  "language_info": {
   "codemirror_mode": {
    "name": "ipython",
    "version": 3
   },
   "file_extension": ".py",
   "mimetype": "text/x-python",
   "name": "python",
   "nbconvert_exporter": "python",
   "pygments_lexer": "ipython3",
   "version": "3.9.2"
  }
 },
 "nbformat": 4,
 "nbformat_minor": 2
}
